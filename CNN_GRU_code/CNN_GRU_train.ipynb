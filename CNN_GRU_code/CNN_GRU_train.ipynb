{
 "cells": [
  {
   "cell_type": "code",
   "execution_count": null,
   "id": "790e227b-b5aa-4fd3-b123-1dfd8980b513",
   "metadata": {},
   "outputs": [],
   "source": [
    "import os\n",
    "import pickle\n",
    "import tensorflow as tf\n",
    "import numpy as np\n",
    "\n",
    "from tensorflow.keras.layers import * "
   ]
  },
  {
   "cell_type": "code",
   "execution_count": null,
   "id": "6f68357e-c818-4540-97b3-0b5f9075db68",
   "metadata": {},
   "outputs": [],
   "source": [
    "from numpy.random import seed\n",
    "seed(1)\n",
    "\n",
    "tf.random.set_seed(2)"
   ]
  },
  {
   "cell_type": "code",
   "execution_count": null,
   "id": "96a7ab3c-3c1b-4502-92ed-5d3eaffd7426",
   "metadata": {},
   "outputs": [],
   "source": [
    "tf.keras.backend.clear_session()"
   ]
  },
  {
   "cell_type": "code",
   "execution_count": null,
   "id": "2a090c0c-964a-4c07-b000-1c1a6de1c278",
   "metadata": {},
   "outputs": [],
   "source": [
    "with open('dataset_1000.pkl', 'rb') as infile:\n",
    "    dataset_dict = pickle.load(infile)"
   ]
  },
  {
   "cell_type": "code",
   "execution_count": null,
   "id": "7731c9ea-a9bc-4d04-a3bc-d103152a8fb9",
   "metadata": {},
   "outputs": [],
   "source": [
    "def create_CNN_GRU_model():\n",
    "    model = tf.keras.Sequential()\n",
    "    model.add(tf.keras.layers.Conv1D(filters=128,\n",
    "                                    kernel_size=5,\n",
    "                                    activation='relu',\n",
    "                                    padding='same'))\n",
    "    model.add(tf.keras.layers.Conv1D(filters=64, kernel_size=3, activation='relu', padding='same'))\n",
    "    model.add(tf.keras.layers.Bidirectional(tf.keras.layers.GRU(50, return_sequences=True)))\n",
    "    model.add(tf.keras.layers.Bidirectional(tf.keras.layers.GRU(30,return_sequences=True)))\n",
    "    model.add(tf.keras.layers.TimeDistributed(tf.keras.layers.Dense(units=1)))\n",
    "    return model\n",
    "\n",
    "def generate_params(model, name, X_train, y_train, X_valid, y_valid):    \n",
    "    params = {\n",
    "        'model': model,\n",
    "        'batch_size': 256,\n",
    "        'optimizer': tf.keras.optimizers.Adam(learning_rate=0.0005),\n",
    "        'loss': tf.keras.losses.Huber(),\n",
    "        'metrics': [tf.keras.metrics.MeanAbsoluteError(name='mae'), tf.keras.metrics.RootMeanSquaredError(name='rmse')],\n",
    "        'callbacks': [tf.keras.callbacks.ModelCheckpoint(os.path.join('models', '{}.h5'.format(name)), monitor='val_loss', mode='min', save_best_only=True)],\n",
    "        'epochs': 50,\n",
    "        'X': X_train,\n",
    "        'y': y_train,\n",
    "        'X_valid': X_valid, \n",
    "        'y_valid': y_valid\n",
    "    }\n",
    "    return params\n",
    "\n",
    "def create_and_train_model(params):\n",
    "    model, batch_size, optimizer, loss, metrics, callbacks, epochs, X, y, X_valid, y_valid = params.values()\n",
    "    model.compile(optimizer=optimizer, loss=loss, metrics=metrics)\n",
    "    model.fit(X, y, epochs=epochs, batch_size=batch_size, validation_data=(X_valid, y_valid), callbacks=callbacks)\n",
    "    return model"
   ]
  },
  {
   "cell_type": "code",
   "execution_count": null,
   "id": "f3513d80-b83e-409a-a9b1-8247ae3a6401",
   "metadata": {},
   "outputs": [],
   "source": [
    "tf.keras.backend.clear_session()"
   ]
  },
  {
   "cell_type": "code",
   "execution_count": null,
   "id": "8caed2d0-d91e-4f38-9c00-fbd9ab99531b",
   "metadata": {
    "tags": []
   },
   "outputs": [],
   "source": [
    "architecture = create_CNN_GRU_model()\n",
    "X_train, y_train = np.expand_dims(dataset_dict['X_train'], 2), np.expand_dims(dataset_dict['y_train'], 2)\n",
    "X_valid, y_valid = np.expand_dims(dataset_dict['X_valid'], 2), np.expand_dims(dataset_dict['y_valid'], 2)\n",
    "params = generate_params(architecture, \"CNN+GRU\", X_train, y_train, X_valid, y_valid)\n",
    "model = create_and_train_model(params)"
   ]
  },
  {
   "cell_type": "code",
   "execution_count": null,
   "id": "cad84c34-5f46-4d40-a42f-ca865ce36721",
   "metadata": {},
   "outputs": [],
   "source": [
    "tf.keras.models.save_model(model, '/home/user/cnn_gru')"
   ]
  }
 ],
 "metadata": {
  "kernelspec": {
   "display_name": "Python 3",
   "language": "python",
   "name": "python3"
  },
  "language_info": {
   "codemirror_mode": {
    "name": "ipython",
    "version": 3
   },
   "file_extension": ".py",
   "mimetype": "text/x-python",
   "name": "python",
   "nbconvert_exporter": "python",
   "pygments_lexer": "ipython3",
   "version": "3.8.10"
  }
 },
 "nbformat": 4,
 "nbformat_minor": 5
}
